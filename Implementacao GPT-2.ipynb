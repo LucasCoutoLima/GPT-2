{
 "cells": [
  {
   "cell_type": "markdown",
   "id": "ca5a9945-afdb-4835-9ad8-07fa7e808131",
   "metadata": {},
   "source": [
    "## Exercício: Modelo de Linguagem com auto-atenção e máscaras causais\r\n",
    "\r\n",
    "Seguimos na mesma linha de treinar um modelo de linguagem a partir dos textos de Machado de Assis.\r\n",
    "\r\n",
    "Neste exercício, vamos treinar um modelo de linguagem com auto-atenção e com máscara causal. A máscara causal é necessária para que o modelo não tenha acesso a palavras futuras, que é a abordagem usada por grandes modelos de linguagem, como o GPT.\r\n",
    "\r\n",
    "Use a implementação matricial de auto-atenção da aula passada (sobre atenção).\r\n",
    "\r\n",
    "### Modificações necessárias\r\n",
    "\r\n",
    "* Adicione a máscara causal na função `forward` da cabeça de auto-atenção.\r\n",
    "* Modificar tokenizador para considerar <sos> (start-of-sequence) e <eos> (end-of-sequence).\r\n",
    "* Modifique o nosso dataset para retornar inputs (uma lista de tokens de tamanho $n$), targets (uma lista de tokens de tamanho $n$ deslocada para a esquerda em 1 token). Exemplo `input = [1, 2, 3, 4]`, `target = [2, 3, 4, 5]` para a sequência `[1, 2, 3, 4, 5]` com `seq_len=4`, por exemplo (Ver slide 72).\r\n",
    "\r\n",
    "### Extra\r\n",
    "* MultiHeadAttention: modifique a cabeça de auto-atenção para ter múltiplas cabeças. Isso não é obrigatório, mas pode ser interessante para ver como o modelo se comporta.\r\n",
    "* Diagrama da geração: fazer diagrama que mostre os passos da geração de tokens (conforme slide 69).\r\n",
    "* Verificar o dataloader e ver se está tudo funcionando, especialmente o deslocamento dos tokens à esquerda.\r\n",
    "\r\n",
    "### Dicas\r\n",
    "\r\n",
    "* Use como base o vídeo do Karpathy: https://www.youtube.com/watch?v=kCc8FmEb1nY. Observe que, no vídeo, ele primeiro implementa um modelo bi-grama, depois um modelo de linguagem com auto-atenção. O modelo de auto-atenção é implementado por volta do minuto 40, mas vale a pena assistir o vídeo todo.\r\n",
    "* Use esta implementação como base: https://colab.research.google.com/drive/1vFTg4MSXVJwNSzPjaCcvmqhxTP7gK7HA?usp=sharing. Observe como o modelo é organizado e como a máscara é implementada na classe MultiHeadAttention.\r\n",
    "* Use `context_size=9`"
   ]
  },
  {
   "cell_type": "code",
   "execution_count": 26,
   "id": "0a3a7511-9617-4c9a-af88-0c8841af5667",
   "metadata": {},
   "outputs": [],
   "source": [
    "import random\n",
    "import torch\n",
    "import torch.nn as nn\n",
    "import torch.nn.functional as F\n",
    "import numpy as np"
   ]
  },
  {
   "cell_type": "code",
   "execution_count": 27,
   "id": "47861a74-00af-4f96-94cc-fefbc7adbb63",
   "metadata": {},
   "outputs": [
    {
     "data": {
      "text/plain": [
       "<torch._C.Generator at 0x1dff170e130>"
      ]
     },
     "execution_count": 27,
     "metadata": {},
     "output_type": "execute_result"
    }
   ],
   "source": [
    "random.seed(123)\n",
    "np.random.seed(123)\n",
    "torch.manual_seed(123)"
   ]
  },
  {
   "cell_type": "markdown",
   "id": "8b3103b2-a4bc-44c5-83fe-3291197a6f1e",
   "metadata": {},
   "source": [
    "## Tokenizer"
   ]
  },
  {
   "cell_type": "code",
   "execution_count": 28,
   "id": "afa13540-9521-496d-b845-e1839b6bfb51",
   "metadata": {},
   "outputs": [
    {
     "name": "stderr",
     "output_type": "stream",
     "text": [
      "C:\\Users\\limalucas\\AppData\\Local\\anaconda3\\Lib\\site-packages\\transformers\\tokenization_utils_base.py:1601: FutureWarning: `clean_up_tokenization_spaces` was not set. It will be set to `True` by default. This behavior will be depracted in transformers v4.45, and will be then set to `False` by default. For more details check this issue: https://github.com/huggingface/transformers/issues/31884\n",
      "  warnings.warn(\n"
     ]
    }
   ],
   "source": [
    "from transformers import BertTokenizer\n",
    "tokenizer = BertTokenizer.from_pretrained('neuralmind/bert-base-portuguese-cased')"
   ]
  },
  {
   "cell_type": "code",
   "execution_count": 29,
   "id": "eea7ebc0-13d5-443a-af2d-8520d649c899",
   "metadata": {},
   "outputs": [
    {
     "data": {
      "text/plain": [
       "2"
      ]
     },
     "execution_count": 29,
     "metadata": {},
     "output_type": "execute_result"
    }
   ],
   "source": [
    "special_tokens_dict = {'additional_special_tokens': ['<sos>', '<eos>']}\n",
    "tokenizer.add_special_tokens(special_tokens_dict)"
   ]
  },
  {
   "cell_type": "code",
   "execution_count": 30,
   "id": "7f733c72-c027-405b-ad48-bca05df157ef",
   "metadata": {},
   "outputs": [
    {
     "name": "stdout",
     "output_type": "stream",
     "text": [
      "[101, 29794, 29795, 102]\n",
      "29794\n"
     ]
    }
   ],
   "source": [
    "print(tokenizer.encode('<sos> <eos>'))\n",
    "print(tokenizer.vocab_size)"
   ]
  },
  {
   "cell_type": "markdown",
   "id": "1d8c797d-70f6-451b-b9a3-8f7479ea310a",
   "metadata": {},
   "source": [
    "## Dados\r\n",
    "\r\n",
    "Vamos usar o mesmo dataset do Machado de Assis.\r\n",
    "\r\n"
   ]
  },
  {
   "cell_type": "code",
   "execution_count": 31,
   "id": "5e5afa26-bc92-4cd5-b5f8-417f6d4e0c5b",
   "metadata": {},
   "outputs": [],
   "source": [
    "#!git clone https://github.com/ethelbeluzzi/projetomachado"
   ]
  },
  {
   "cell_type": "code",
   "execution_count": 80,
   "id": "0c0f70cf-fd33-4f7d-8e69-0ccc2d685b09",
   "metadata": {},
   "outputs": [
    {
     "data": {
      "text/plain": [
       "4903405"
      ]
     },
     "execution_count": 80,
     "metadata": {},
     "output_type": "execute_result"
    }
   ],
   "source": [
    "import os\n",
    "\n",
    "DATA_PATH = os.path.join(\"projetomachado\", \"textonormalizado1000.txt\")\n",
    "\n",
    "# A príncipio, não estamos limpando as linhas\n",
    "with open(DATA_PATH, \"r\", encoding=\"utf-8\") as data_file:\n",
    "    lines = [line for line in data_file]\n",
    "\n",
    "# É possível voltar a um texto monolítico juntando as linhas.\n",
    "full_data = ' '.join(lines)\n",
    "#full_data = full_data[:100000] # Limitando para testes\n",
    "full_data = tokenizer(full_data).input_ids[1:-1]\n",
    "len(full_data)"
   ]
  },
  {
   "cell_type": "code",
   "execution_count": 81,
   "id": "d25c32b1-b731-4fb7-9758-89a6725eec4b",
   "metadata": {},
   "outputs": [
    {
     "data": {
      "text/plain": [
       "(3922724, 980681)"
      ]
     },
     "execution_count": 81,
     "metadata": {},
     "output_type": "execute_result"
    }
   ],
   "source": [
    "from sklearn.model_selection import train_test_split\n",
    "train_text, val_text = train_test_split(full_data, test_size=0.2, random_state=18, shuffle=False)\n",
    "len(train_text), len(val_text)"
   ]
  },
  {
   "cell_type": "markdown",
   "id": "2bf28053-1364-4042-bbda-a428e27bdf50",
   "metadata": {},
   "source": [
    "## Classe do dataset\r\n",
    "\r\n",
    "Utilize o Tokenizer do Bert na classe Dataset.\r\n",
    "Defina um tamanho de sequencia/contexto."
   ]
  },
  {
   "cell_type": "code",
   "execution_count": 82,
   "id": "35c3fe53-fcec-4a21-8209-749ec4ec8eaf",
   "metadata": {},
   "outputs": [],
   "source": [
    "from torch.utils.data import Dataset\n",
    "\n",
    "context_size = 8  # 7 palavras de entrada. O target é a próxima palavra. <sos> no começo e <eos> no final\n",
    "\"\"\"TODO: Preparar o dataset\"\"\"\n",
    "class TextDataset(Dataset):\n",
    "    def __init__(self, text, context_size):\n",
    "        self.pairs = self.create_context_target_pairs(text, context_size)\n",
    "\n",
    "    def create_context_target_pairs(self, text, context_size):\n",
    "        context_target_pairs = []\n",
    "\n",
    "        # Gerar pares (contexto, target) ignorando targets desconhecidos\n",
    "        for i in range(len(text) - context_size):\n",
    "            context = [29794] + text[i:i + context_size]\n",
    "            target = text[i:i + context_size] + [29795]\n",
    "\n",
    "            context_target_pairs.append((context, target))\n",
    "\n",
    "        return context_target_pairs\n",
    "\n",
    "    def __len__(self):\n",
    "        return len(self.pairs)\n",
    "\n",
    "    def __getitem__(self, idx):\n",
    "        context, target = self.pairs[idx]\n",
    "        return torch.tensor(context, dtype=torch.long), torch.tensor(target, dtype=torch.long)"
   ]
  },
  {
   "cell_type": "code",
   "execution_count": 83,
   "id": "cb15be70-b633-4d09-af9e-fadaf02e08d9",
   "metadata": {},
   "outputs": [
    {
     "data": {
      "text/plain": [
       "(3922716, 980673)"
      ]
     },
     "execution_count": 83,
     "metadata": {},
     "output_type": "execute_result"
    }
   ],
   "source": [
    "\"\"\"TODO: implemente a classe do dataset\"\"\"\n",
    "\n",
    "train_data = TextDataset(train_text, context_size)\n",
    "val_data = TextDataset(val_text, context_size)\n",
    "len(train_data), len(val_data)"
   ]
  },
  {
   "cell_type": "code",
   "execution_count": 84,
   "id": "5248c1bf-e071-45f2-b278-153db3d3b87a",
   "metadata": {},
   "outputs": [
    {
     "name": "stdout",
     "output_type": "stream",
     "text": [
      "Contexto: tensor([29794,   205,   213,  7073,  6538, 22321, 22352, 21748, 22317]), Target: tensor([  205,   213,  7073,  6538, 22321, 22352, 21748, 22317, 29795])\n",
      "Contexto: tensor([29794,   213,  7073,  6538, 22321, 22352, 21748, 22317,   250]), Target: tensor([  213,  7073,  6538, 22321, 22352, 21748, 22317,   250, 29795])\n",
      "Contexto: tensor([29794,  7073,  6538, 22321, 22352, 21748, 22317,   250, 22301]), Target: tensor([ 7073,  6538, 22321, 22352, 21748, 22317,   250, 22301, 29795])\n"
     ]
    }
   ],
   "source": [
    "# Exemplo de acesso a um item do dataset\n",
    "for i in range(3):\n",
    "  sample_context, sample_target = train_data[i]\n",
    "  print(f\"Contexto: {sample_context}, Target: {sample_target}\")"
   ]
  },
  {
   "cell_type": "markdown",
   "id": "f785ed4b-8eff-4ea1-a974-794cc5f526c5",
   "metadata": {},
   "source": [
    "## DataLoader"
   ]
  },
  {
   "cell_type": "code",
   "execution_count": 85,
   "id": "b5cd4d34-52db-43c9-9bd4-22ba0b5a9fef",
   "metadata": {},
   "outputs": [],
   "source": [
    "from torch.utils.data import DataLoader\n",
    "batch_size = 512\n",
    "train_loader = DataLoader(train_data, batch_size=batch_size, shuffle=True)\n",
    "val_loader = DataLoader(val_data, batch_size=batch_size, shuffle=True)\n",
    "sample = next(iter(train_loader))"
   ]
  },
  {
   "cell_type": "code",
   "execution_count": 86,
   "id": "982968b0-68d8-4cd2-9c01-ef1375cf9526",
   "metadata": {},
   "outputs": [
    {
     "name": "stdout",
     "output_type": "stream",
     "text": [
      "Dimensões do contexto no lote: torch.Size([512, 9])\n",
      "Dimensões do alvo no lote: torch.Size([512, 9])\n"
     ]
    },
    {
     "data": {
      "text/plain": [
       "(tensor([[29794, 22280,   712,  ...,   547,   125,   222],\n",
       "         [29794,   117, 17891,  ...,   119,   119,   119],\n",
       "         [29794,   122,   146,  ...,  9630, 22278,  1202],\n",
       "         ...,\n",
       "         [29794,   504,  4536,  ..., 22305,   117,   122],\n",
       "         [29794,   222,   644,  ...,  8175,   146,   347],\n",
       "         [29794,   529,   675,  ...,   179,   125,  5288]]),\n",
       " tensor([[22280,   712,  3667,  ...,   125,   222, 29795],\n",
       "         [  117, 17891,  4640,  ...,   119,   119, 29795],\n",
       "         [  122,   146,  9857,  ..., 22278,  1202, 29795],\n",
       "         ...,\n",
       "         [  504,  4536,  8849,  ...,   117,   122, 29795],\n",
       "         [  222,   644,  7821,  ...,   146,   347, 29795],\n",
       "         [  529,   675, 10089,  ...,   125,  5288, 29795]]))"
      ]
     },
     "execution_count": 86,
     "metadata": {},
     "output_type": "execute_result"
    }
   ],
   "source": [
    "context_batch, target_batch = sample\n",
    "\n",
    "print(f\"Dimensões do contexto no lote: {context_batch.shape}\")\n",
    "print(f\"Dimensões do alvo no lote: {target_batch.shape}\")\n",
    "context_batch, target_batch"
   ]
  },
  {
   "cell_type": "markdown",
   "id": "76959290-201b-4e53-9139-19c3487a7523",
   "metadata": {},
   "source": [
    "## Modelo"
   ]
  },
  {
   "cell_type": "code",
   "execution_count": 87,
   "id": "ec47ab88-8456-43d0-8c7a-915b173eaee0",
   "metadata": {},
   "outputs": [],
   "source": [
    "class Head(nn.Module):\n",
    "    \"\"\" uma cabeça de auto-atenção \"\"\"\n",
    "    def __init__(self, head_size):\n",
    "        super().__init__()\n",
    "        self.key = nn.Linear(n_embd, head_size, bias=False)\n",
    "        self.query = nn.Linear(n_embd, head_size, bias=False)\n",
    "        self.value = nn.Linear(n_embd, head_size, bias=False)\n",
    "        self.register_buffer('tril', torch.tril(torch.ones(block_size, block_size)))  # Máscara causal\n",
    "\n",
    "        self.dropout = nn.Dropout(dropout)\n",
    "\n",
    "    def forward(self, x):\n",
    "        B, T, C = x.shape  # batch, seq_len, emb_size\n",
    "        k = self.key(x)   # (B, T, head_size)\n",
    "        q = self.query(x) # (B, T, head_size)\n",
    "        # Calcular scores de atenção\n",
    "        wei = q @ k.transpose(-2, -1) * C**-0.5  # (B, T, head_size) @ (B, head_size, T) -> (B, T, T)\n",
    "        wei = wei.masked_fill(self.tril[:T, :T] == 0, float('-inf'))  # (B, T, T)\n",
    "        wei = F.softmax(wei, dim=-1)  # (B, T, T)\n",
    "        wei = self.dropout(wei)\n",
    "        # Agregação ponderada dos valores\n",
    "        v = self.value(x)  # (B, T, head_size)\n",
    "        out = wei @ v  # (B, T, T) @ (B, T, head_size) -> (B, T, head_size)\n",
    "        return out\n",
    "\n",
    "class MultiHeadAttention(nn.Module):\n",
    "    \"\"\" múltiplas cabeças de auto-atenção em paralelo \"\"\"\n",
    "    def __init__(self, num_heads, head_size):\n",
    "        super().__init__()\n",
    "        self.heads = nn.ModuleList([Head(head_size) for _ in range(num_heads)])\n",
    "        self.proj = nn.Linear(n_embd, n_embd)\n",
    "        self.dropout = nn.Dropout(dropout)\n",
    "\n",
    "    def forward(self, x):\n",
    "        out = torch.cat([h(x) for h in self.heads], dim=-1)  # Concatena as saídas de todas as cabeças\n",
    "        out = self.dropout(self.proj(out))\n",
    "        return out\n",
    "\n",
    "class FeedFoward(nn.Module):\n",
    "    \"\"\" uma camada linear simples seguida por uma não-linearidade \"\"\"\n",
    "    def __init__(self, n_embd):\n",
    "        super().__init__()\n",
    "        self.net = nn.Sequential(\n",
    "            nn.Linear(n_embd, 4 * n_embd),\n",
    "            nn.ReLU(),\n",
    "            nn.Linear(4 * n_embd, n_embd),\n",
    "            nn.Dropout(dropout),\n",
    "        )\n",
    "\n",
    "    def forward(self, x):\n",
    "        return self.net(x)\n",
    "\n",
    "class Block(nn.Module):\n",
    "    \"\"\" Bloco Transformer: comunicação seguida de computação \"\"\"\n",
    "    def __init__(self, n_embd, n_head):\n",
    "        super().__init__()\n",
    "        head_size = n_embd // n_head\n",
    "        self.sa = MultiHeadAttention(n_head, head_size)\n",
    "        self.ffwd = FeedFoward(n_embd)\n",
    "        self.ln1 = nn.LayerNorm(n_embd)\n",
    "        self.ln2 = nn.LayerNorm(n_embd)\n",
    "\n",
    "    def forward(self, x):\n",
    "        x = x + self.sa(self.ln1(x))\n",
    "        x = x + self.ffwd(self.ln2(x))\n",
    "        return x\n",
    "\n",
    "class Microtransformer(nn.Module):\n",
    "    def __init__(self):\n",
    "        super().__init__()\n",
    "        self.token_embedding_table = nn.Embedding(vocab_size, n_embd)\n",
    "        self.position_embedding_table = nn.Embedding(block_size, n_embd)\n",
    "        self.blocks = nn.Sequential(*[Block(n_embd, n_head=n_head) for _ in range(n_layer)])\n",
    "        self.ln_f = nn.LayerNorm(n_embd)  # normalização final\n",
    "        self.lm_head = nn.Linear(n_embd, vocab_size)\n",
    "\n",
    "    def forward(self, idx, targets=None):\n",
    "        B, T = idx.shape\n",
    "        tok_emb = self.token_embedding_table(idx)  # (B, T, C)\n",
    "        pos_emb = self.position_embedding_table(torch.arange(T, device=device))  # (T, C)\n",
    "        x = tok_emb + pos_emb  # (B, T, C)\n",
    "        x = self.blocks(x)  # (B, T, C)\n",
    "        x = self.ln_f(x)  # (B, T, C)\n",
    "        logits = self.lm_head(x)  # (B, T, vocab_size)\n",
    "\n",
    "        return logits"
   ]
  },
  {
   "cell_type": "code",
   "execution_count": 100,
   "id": "0d41f49c-99fc-4163-a52b-573663660cac",
   "metadata": {},
   "outputs": [],
   "source": [
    "# hyperparameters\n",
    "vocab_size = 29796\n",
    "batch_size = 512 \n",
    "block_size = 9\n",
    "n_embd = 128\n",
    "n_head = 4\n",
    "n_layer = 4\n",
    "dropout = 0.3"
   ]
  },
  {
   "cell_type": "code",
   "execution_count": 101,
   "id": "fe0741fa-9ec0-4a1c-9fd2-beef6e44c6df",
   "metadata": {},
   "outputs": [
    {
     "data": {
      "text/plain": [
       "Microtransformer(\n",
       "  (token_embedding_table): Embedding(29796, 128)\n",
       "  (position_embedding_table): Embedding(9, 128)\n",
       "  (blocks): Sequential(\n",
       "    (0): Block(\n",
       "      (sa): MultiHeadAttention(\n",
       "        (heads): ModuleList(\n",
       "          (0-3): 4 x Head(\n",
       "            (key): Linear(in_features=128, out_features=32, bias=False)\n",
       "            (query): Linear(in_features=128, out_features=32, bias=False)\n",
       "            (value): Linear(in_features=128, out_features=32, bias=False)\n",
       "            (dropout): Dropout(p=0.3, inplace=False)\n",
       "          )\n",
       "        )\n",
       "        (proj): Linear(in_features=128, out_features=128, bias=True)\n",
       "        (dropout): Dropout(p=0.3, inplace=False)\n",
       "      )\n",
       "      (ffwd): FeedFoward(\n",
       "        (net): Sequential(\n",
       "          (0): Linear(in_features=128, out_features=512, bias=True)\n",
       "          (1): ReLU()\n",
       "          (2): Linear(in_features=512, out_features=128, bias=True)\n",
       "          (3): Dropout(p=0.3, inplace=False)\n",
       "        )\n",
       "      )\n",
       "      (ln1): LayerNorm((128,), eps=1e-05, elementwise_affine=True)\n",
       "      (ln2): LayerNorm((128,), eps=1e-05, elementwise_affine=True)\n",
       "    )\n",
       "    (1): Block(\n",
       "      (sa): MultiHeadAttention(\n",
       "        (heads): ModuleList(\n",
       "          (0-3): 4 x Head(\n",
       "            (key): Linear(in_features=128, out_features=32, bias=False)\n",
       "            (query): Linear(in_features=128, out_features=32, bias=False)\n",
       "            (value): Linear(in_features=128, out_features=32, bias=False)\n",
       "            (dropout): Dropout(p=0.3, inplace=False)\n",
       "          )\n",
       "        )\n",
       "        (proj): Linear(in_features=128, out_features=128, bias=True)\n",
       "        (dropout): Dropout(p=0.3, inplace=False)\n",
       "      )\n",
       "      (ffwd): FeedFoward(\n",
       "        (net): Sequential(\n",
       "          (0): Linear(in_features=128, out_features=512, bias=True)\n",
       "          (1): ReLU()\n",
       "          (2): Linear(in_features=512, out_features=128, bias=True)\n",
       "          (3): Dropout(p=0.3, inplace=False)\n",
       "        )\n",
       "      )\n",
       "      (ln1): LayerNorm((128,), eps=1e-05, elementwise_affine=True)\n",
       "      (ln2): LayerNorm((128,), eps=1e-05, elementwise_affine=True)\n",
       "    )\n",
       "    (2): Block(\n",
       "      (sa): MultiHeadAttention(\n",
       "        (heads): ModuleList(\n",
       "          (0-3): 4 x Head(\n",
       "            (key): Linear(in_features=128, out_features=32, bias=False)\n",
       "            (query): Linear(in_features=128, out_features=32, bias=False)\n",
       "            (value): Linear(in_features=128, out_features=32, bias=False)\n",
       "            (dropout): Dropout(p=0.3, inplace=False)\n",
       "          )\n",
       "        )\n",
       "        (proj): Linear(in_features=128, out_features=128, bias=True)\n",
       "        (dropout): Dropout(p=0.3, inplace=False)\n",
       "      )\n",
       "      (ffwd): FeedFoward(\n",
       "        (net): Sequential(\n",
       "          (0): Linear(in_features=128, out_features=512, bias=True)\n",
       "          (1): ReLU()\n",
       "          (2): Linear(in_features=512, out_features=128, bias=True)\n",
       "          (3): Dropout(p=0.3, inplace=False)\n",
       "        )\n",
       "      )\n",
       "      (ln1): LayerNorm((128,), eps=1e-05, elementwise_affine=True)\n",
       "      (ln2): LayerNorm((128,), eps=1e-05, elementwise_affine=True)\n",
       "    )\n",
       "    (3): Block(\n",
       "      (sa): MultiHeadAttention(\n",
       "        (heads): ModuleList(\n",
       "          (0-3): 4 x Head(\n",
       "            (key): Linear(in_features=128, out_features=32, bias=False)\n",
       "            (query): Linear(in_features=128, out_features=32, bias=False)\n",
       "            (value): Linear(in_features=128, out_features=32, bias=False)\n",
       "            (dropout): Dropout(p=0.3, inplace=False)\n",
       "          )\n",
       "        )\n",
       "        (proj): Linear(in_features=128, out_features=128, bias=True)\n",
       "        (dropout): Dropout(p=0.3, inplace=False)\n",
       "      )\n",
       "      (ffwd): FeedFoward(\n",
       "        (net): Sequential(\n",
       "          (0): Linear(in_features=128, out_features=512, bias=True)\n",
       "          (1): ReLU()\n",
       "          (2): Linear(in_features=512, out_features=128, bias=True)\n",
       "          (3): Dropout(p=0.3, inplace=False)\n",
       "        )\n",
       "      )\n",
       "      (ln1): LayerNorm((128,), eps=1e-05, elementwise_affine=True)\n",
       "      (ln2): LayerNorm((128,), eps=1e-05, elementwise_affine=True)\n",
       "    )\n",
       "  )\n",
       "  (ln_f): LayerNorm((128,), eps=1e-05, elementwise_affine=True)\n",
       "  (lm_head): Linear(in_features=128, out_features=29796, bias=True)\n",
       ")"
      ]
     },
     "execution_count": 101,
     "metadata": {},
     "output_type": "execute_result"
    }
   ],
   "source": [
    "model = Microtransformer()\n",
    "model"
   ]
  },
  {
   "cell_type": "code",
   "execution_count": 102,
   "id": "adf675f4-af3c-4397-b96e-a1e3d5d86a57",
   "metadata": {},
   "outputs": [],
   "source": [
    "#!pip install torchinfo -q"
   ]
  },
  {
   "cell_type": "code",
   "execution_count": 103,
   "id": "b92cd3fb-32f6-464c-acde-f0552922505a",
   "metadata": {},
   "outputs": [
    {
     "data": {
      "text/plain": [
       "======================================================================\n",
       "Layer (type:depth-idx)                        Param #\n",
       "======================================================================\n",
       "Microtransformer                              --\n",
       "├─Embedding: 1-1                              3,813,888\n",
       "├─Embedding: 1-2                              1,152\n",
       "├─Sequential: 1-3                             --\n",
       "│    └─Block: 2-1                             --\n",
       "│    │    └─MultiHeadAttention: 3-1           65,664\n",
       "│    │    └─FeedFoward: 3-2                   131,712\n",
       "│    │    └─LayerNorm: 3-3                    256\n",
       "│    │    └─LayerNorm: 3-4                    256\n",
       "│    └─Block: 2-2                             --\n",
       "│    │    └─MultiHeadAttention: 3-5           65,664\n",
       "│    │    └─FeedFoward: 3-6                   131,712\n",
       "│    │    └─LayerNorm: 3-7                    256\n",
       "│    │    └─LayerNorm: 3-8                    256\n",
       "│    └─Block: 2-3                             --\n",
       "│    │    └─MultiHeadAttention: 3-9           65,664\n",
       "│    │    └─FeedFoward: 3-10                  131,712\n",
       "│    │    └─LayerNorm: 3-11                   256\n",
       "│    │    └─LayerNorm: 3-12                   256\n",
       "│    └─Block: 2-4                             --\n",
       "│    │    └─MultiHeadAttention: 3-13          65,664\n",
       "│    │    └─FeedFoward: 3-14                  131,712\n",
       "│    │    └─LayerNorm: 3-15                   256\n",
       "│    │    └─LayerNorm: 3-16                   256\n",
       "├─LayerNorm: 1-4                              256\n",
       "├─Linear: 1-5                                 3,843,684\n",
       "======================================================================\n",
       "Total params: 8,450,532\n",
       "Trainable params: 8,450,532\n",
       "Non-trainable params: 0\n",
       "======================================================================"
      ]
     },
     "execution_count": 103,
     "metadata": {},
     "output_type": "execute_result"
    }
   ],
   "source": [
    "import torchinfo\n",
    "torchinfo.summary(model)"
   ]
  },
  {
   "cell_type": "code",
   "execution_count": 104,
   "id": "14afd507-1986-499f-8350-8f34cda1ae39",
   "metadata": {},
   "outputs": [
    {
     "data": {
      "text/plain": [
       "device(type='cuda')"
      ]
     },
     "execution_count": 104,
     "metadata": {},
     "output_type": "execute_result"
    }
   ],
   "source": [
    "# Verifica se há uma GPU disponível e define o dispositivo para GPU se possível, caso contrário, usa a CPU\n",
    "device = torch.device('cuda' if torch.cuda.is_available() else 'cpu')\n",
    "device"
   ]
  },
  {
   "cell_type": "code",
   "execution_count": 105,
   "id": "4da56d92-097e-4c01-84ac-514a84344437",
   "metadata": {},
   "outputs": [],
   "source": [
    "model.to(device)\n",
    "criterion = nn.CrossEntropyLoss(ignore_index=100) #\"\"\"TODO CrossEntropy\"\"\"\"\n",
    "def calculate_perplexity(model, dataloader, criterion, device):\n",
    "    model.eval()\n",
    "    total_loss = 0.0\n",
    "    total_words = 0\n",
    "\n",
    "    with torch.no_grad():\n",
    "        for contexts, targets in dataloader:\n",
    "            contexts, targets = contexts.to(device), targets.to(device)\n",
    "\n",
    "            # Forward pass\n",
    "            outputs = model(contexts)\n",
    "            \n",
    "            # Ajustar as dimensões\n",
    "            outputs = outputs.view(-1, outputs.size(-1))  # (batch_size * seq_len, vocab_size)\n",
    "            targets = targets.view(-1)  # (batch_size * seq_len)\n",
    "            # Calculate the loss\n",
    "            loss = criterion(outputs, targets)\n",
    "\n",
    "            # Accumulate the loss and the number of words\n",
    "            total_loss += loss.item() #* contexts.size(0)\n",
    "            #total_words += targets.size(0)\n",
    "\n",
    "    # Compute the average loss\n",
    "    avg_loss = total_loss / len(dataloader)\n",
    "\n",
    "    # Calculate the perplexity\n",
    "    perplexity = np.exp(avg_loss)\n",
    "\n",
    "    return perplexity"
   ]
  },
  {
   "cell_type": "code",
   "execution_count": 106,
   "id": "aaddf79a-f5ca-45cc-ab91-4a696fa5a36c",
   "metadata": {},
   "outputs": [
    {
     "name": "stdout",
     "output_type": "stream",
     "text": [
      "Perplexidade no conjunto de treino: 34376.86\n"
     ]
    }
   ],
   "source": [
    "train_perplexity = calculate_perplexity(model, train_loader, criterion, device)\n",
    "print(f\"Perplexidade no conjunto de treino: {train_perplexity:.2f}\")"
   ]
  },
  {
   "cell_type": "code",
   "execution_count": 107,
   "id": "cb1723e0-d71b-44c3-a399-14ac7a9191f2",
   "metadata": {},
   "outputs": [
    {
     "name": "stdout",
     "output_type": "stream",
     "text": [
      "Epoch 1/10 - Train Loss: 0.0105 - Val Loss: 0.0094 - Train Accuracy: 0.2180 - Val Accuracy: 0.2519 - Time: 8.85 min\n",
      "Epoch 2/10 - Train Loss: 0.0090 - Val Loss: 0.0090 - Train Accuracy: 0.2593 - Val Accuracy: 0.2684 - Time: 8.90 min\n",
      "Epoch 3/10 - Train Loss: 0.0087 - Val Loss: 0.0088 - Train Accuracy: 0.2710 - Val Accuracy: 0.2766 - Time: 8.84 min\n",
      "Epoch 4/10 - Train Loss: 0.0085 - Val Loss: 0.0087 - Train Accuracy: 0.2778 - Val Accuracy: 0.2817 - Time: 8.84 min\n",
      "Epoch 5/10 - Train Loss: 0.0083 - Val Loss: 0.0087 - Train Accuracy: 0.2825 - Val Accuracy: 0.2847 - Time: 8.90 min\n",
      "Epoch 6/10 - Train Loss: 0.0082 - Val Loss: 0.0086 - Train Accuracy: 0.2860 - Val Accuracy: 0.2871 - Time: 8.85 min\n",
      "Epoch 7/10 - Train Loss: 0.0082 - Val Loss: 0.0086 - Train Accuracy: 0.2887 - Val Accuracy: 0.2887 - Time: 8.84 min\n",
      "Epoch 8/10 - Train Loss: 0.0081 - Val Loss: 0.0086 - Train Accuracy: 0.2911 - Val Accuracy: 0.2905 - Time: 8.88 min\n",
      "Epoch 9/10 - Train Loss: 0.0081 - Val Loss: 0.0085 - Train Accuracy: 0.2932 - Val Accuracy: 0.2918 - Time: 8.85 min\n",
      "Epoch 10/10 - Train Loss: 0.0080 - Val Loss: 0.0085 - Train Accuracy: 0.2950 - Val Accuracy: 0.2932 - Time: 8.85 min\n"
     ]
    },
    {
     "data": {
      "image/png": "[encoded data removed]",
      "text/plain": [
       "<Figure size 1500x500 with 2 Axes>"
      ]
     },
     "metadata": {},
     "output_type": "display_data"
    }
   ],
   "source": [
    "import time\n",
    "import torch.optim as optim\n",
    "import matplotlib.pyplot as plt\n",
    "\n",
    "epochs = 10\n",
    "lr = 1e-4  # Taxa de aprendizado\n",
    "criterion = nn.CrossEntropyLoss(ignore_index=100)  # Função de perda CrossEntropy\n",
    "\n",
    "optimizer = optim.AdamW(model.parameters(), lr=lr)  # Otimizador AdamW\n",
    "\n",
    "model.to(device)\n",
    "\n",
    "# Função de Treinamento\n",
    "def train_epoch(model, dataloader, optimizer, criterion, device):\n",
    "    model.train()\n",
    "    epoch_loss = 0.0\n",
    "    correct = 0\n",
    "    total = 0\n",
    "\n",
    "    for contexts, targets in dataloader:\n",
    "        contexts, targets = contexts.to(device), targets.to(device)\n",
    "\n",
    "        optimizer.zero_grad()\n",
    "\n",
    "        outputs = model(contexts)\n",
    "        \n",
    "        # Ajustar as dimensões\n",
    "        outputs = outputs.view(-1, outputs.size(-1))  # (batch_size * seq_len, vocab_size)\n",
    "        targets = targets.view(-1)  # (batch_size * seq_len)\n",
    "\n",
    "        loss = criterion(outputs, targets)\n",
    "        loss.backward()\n",
    "        optimizer.step()\n",
    "\n",
    "        epoch_loss += loss.item() #* contexts.size(0)\n",
    "\n",
    "        # Cálculo da acurácia\n",
    "        _, predicted = torch.max(outputs, 1)\n",
    "        total += targets.size(0)\n",
    "        correct += (predicted == targets).sum().item()\n",
    "\n",
    "    accuracy = correct / total\n",
    "    return epoch_loss / len(dataloader.dataset), accuracy\n",
    "\n",
    "# Função de Avaliação\n",
    "def evaluate(model, dataloader, criterion, device):\n",
    "    model.eval()\n",
    "    epoch_loss = 0.0\n",
    "    correct = 0\n",
    "    total = 0\n",
    "\n",
    "    with torch.no_grad():\n",
    "        for contexts, targets in dataloader:\n",
    "            contexts, targets = contexts.to(device), targets.to(device)\n",
    "\n",
    "            outputs = model(contexts)\n",
    "            \n",
    "            # Ajustar as dimensões\n",
    "            outputs = outputs.view(-1, outputs.size(-1))  # (batch_size * seq_len, vocab_size)\n",
    "            targets = targets.view(-1)  # (batch_size * seq_len)\n",
    "\n",
    "            loss = criterion(outputs, targets)\n",
    "            epoch_loss += loss.item() #* contexts.size(0)\n",
    "\n",
    "            # Cálculo da acurácia\n",
    "            _, predicted = torch.max(outputs, 1)\n",
    "            total += targets.size(0)\n",
    "            correct += (predicted == targets).sum().item()\n",
    "\n",
    "    accuracy = correct / total\n",
    "    return epoch_loss / len(dataloader.dataset), accuracy\n",
    "\n",
    "# Loop de Treinamento e Avaliação com Tempo por Época\n",
    "def train_and_evaluate(model, train_loader, val_loader, optimizer, criterion, epochs, device):\n",
    "    train_losses = []\n",
    "    val_losses = []\n",
    "    train_accuracies = []\n",
    "    val_accuracies = []\n",
    "\n",
    "    for epoch in range(epochs):\n",
    "        start_time = time.time()  # Captura o tempo inicial da época\n",
    "\n",
    "        train_loss, train_acc = train_epoch(model, train_loader, optimizer, criterion, device)\n",
    "        val_loss, val_acc = evaluate(model, val_loader, criterion, device)\n",
    "\n",
    "        end_time = time.time()  # Captura o tempo final da época\n",
    "        epoch_time = (end_time - start_time) / 60  # Tempo da época em minutos\n",
    "\n",
    "        train_losses.append(train_loss)\n",
    "        val_losses.append(val_loss)\n",
    "        train_accuracies.append(train_acc)\n",
    "        val_accuracies.append(val_acc)\n",
    "\n",
    "        print(f\"Epoch {epoch+1}/{epochs} - Train Loss: {train_loss:.4f} - Val Loss: {val_loss:.4f} - \"\n",
    "              f\"Train Accuracy: {train_acc:.4f} - Val Accuracy: {val_acc:.4f} - \"\n",
    "              f\"Time: {epoch_time:.2f} min\")\n",
    "\n",
    "    return train_losses, val_losses, train_accuracies, val_accuracies\n",
    "\n",
    "# Treinamento e Avaliação\n",
    "train_losses, val_losses, train_accuracies, val_accuracies = train_and_evaluate(model, train_loader, val_loader, optimizer, criterion, epochs, device)\n",
    "\n",
    "# Plotar Gráficos de Loss e Acurácia\n",
    "def plot_metrics(train_losses, val_losses, train_accuracies, val_accuracies):\n",
    "    fig, axs = plt.subplots(1, 2, figsize=(15, 5))\n",
    "\n",
    "    # Plot de Loss\n",
    "    axs[0].plot(train_losses, label='Train Loss')\n",
    "    axs[0].plot(val_losses, label='Val Loss')\n",
    "    axs[0].set_xlabel('Epoch')\n",
    "    axs[0].set_ylabel('Loss')\n",
    "    axs[0].set_title('Train and Validation Loss')\n",
    "    axs[0].legend()\n",
    "\n",
    "    # Plot de Acurácia\n",
    "    axs[1].plot(train_accuracies, label='Train Accuracy')\n",
    "    axs[1].plot(val_accuracies, label='Val Accuracy')\n",
    "    axs[1].set_xlabel('Epoch')\n",
    "    axs[1].set_ylabel('Accuracy')\n",
    "    axs[1].set_title('Train and Validation Accuracy')\n",
    "    axs[1].legend()\n",
    "\n",
    "    plt.show()\n",
    "\n",
    "plot_metrics(train_losses, val_losses, train_accuracies, val_accuracies)"
   ]
  },
  {
   "cell_type": "code",
   "execution_count": 108,
   "id": "d8d06abe-1218-48df-93d5-e3d1acfdc976",
   "metadata": {},
   "outputs": [
    {
     "name": "stdout",
     "output_type": "stream",
     "text": [
      "Perplexidade no conjunto de validação: 78.89\n"
     ]
    }
   ],
   "source": [
    "\"\"\" TODO: calcule a perplexidade final no dataset de validação \"\"\"\n",
    "val_perplexity = calculate_perplexity(model, val_loader, criterion, device)\n",
    "print(f\"Perplexidade no conjunto de validação: {val_perplexity:.2f}\")"
   ]
  },
  {
   "cell_type": "markdown",
   "id": "8a2f8beb-d99b-4857-be33-91ec5b6b9856",
   "metadata": {},
   "source": [
    "## Geração sem temperatura"
   ]
  },
  {
   "cell_type": "code",
   "execution_count": 110,
   "id": "f73a74fd-14a7-40a9-8131-3898d4356f7a",
   "metadata": {},
   "outputs": [
    {
     "name": "stdout",
     "output_type": "stream",
     "text": [
      "Contexto Inicial: , pedindo charutos, indo ao\n",
      "Texto gerado: ........ <eos> ##tm, who, www. nead. unama. b!....................................................................................................................................\n",
      "----------------------------------------------------------------------------------------------------\n",
      "Contexto Inicial: ##risto e estenderlhe a mão ; voltou\n",
      "Texto gerado: ........ <eos> ##he a mão, e, se não é preciso... é preciso que não....................................................................................................................................\n",
      "----------------------------------------------------------------------------------------------------\n",
      "Contexto Inicial: Lívia. Que foi, emendo\n",
      "Texto gerado: ........ <eos> ##o, é que não se pode fazer crer que não seja, nem por isso é possível que não é?..............................................................................................................................\n",
      "----------------------------------------------------------------------------------------------------\n",
      "Contexto Inicial: francamente a voc [UNK] a falta de\n",
      "Texto gerado: ........ <eos> ##imilhança. O que é? Não, senhor, é verdade, senhor... é que não é?.............................................................................................................................\n",
      "----------------------------------------------------------------------------------------------------\n",
      "Contexto Inicial: ##car com a agulha. Sabe\n",
      "Texto gerado: ........ <eos> ##a que é? Não, senhor..............................................................................................................................................\n",
      "----------------------------------------------------------------------------------------------------\n"
     ]
    }
   ],
   "source": [
    "# Função para gerar texto a partir de um modelo\n",
    "def generate_text(model, context, max_length, context_size, device):\n",
    "    model.eval()\n",
    "\n",
    "    generated_indices = []\n",
    "    context = context\n",
    "    # Começar a geração de texto\n",
    "    for i in range(max_length):\n",
    "        # Obter o contexto atual\n",
    "        if i==0:\n",
    "            input_context = torch.tensor([29794]+context[-context_size:], dtype=torch.long, device=device).unsqueeze(0)\n",
    "        else:\n",
    "            input_context = torch.tensor(context[-context_size-1:], dtype=torch.long, device=device).unsqueeze(0)\n",
    "        # Forward pass\n",
    "        with torch.no_grad():\n",
    "            output = model(input_context) # output.shape: (1, seq_len, vocab_size)\n",
    "        \n",
    "        # Obter o índice da palavra mais provável para o próximo token\n",
    "        next_token_logits = output[:, -1, :]  # (1, vocab_size)\n",
    "        predicted_index = torch.argmax(next_token_logits, dim=-1).item()\n",
    "\n",
    "        # Adicionar o índice ao texto gerado\n",
    "        generated_indices.append(predicted_index)\n",
    "\n",
    "        # Atualizar o contexto\n",
    "        context.append(predicted_index)\n",
    "        context = context[-context_size:]\n",
    "\n",
    "    # Decodificar os índices gerados para texto usando o tokenizer do BERT\n",
    "    generated_text = tokenizer.decode(generated_indices)#, skip_special_tokens=True)\n",
    "\n",
    "    return tokenizer.decode(context[:context_size]) + ' ' + generated_text\n",
    "\n",
    "# Função para pegar um contexto aleatório do val_data\n",
    "def get_random_context(val_text, context_size):\n",
    "    # Escolha um índice aleatório para começar\n",
    "    start_index = random.randint(0, len(val_text) - context_size)\n",
    "    context = val_text[start_index:start_index + context_size]\n",
    "\n",
    "    return context\n",
    "\n",
    "# Exemplo de uso\n",
    "context_size = 8\n",
    "for i in range(5):\n",
    "  context = get_random_context(val_text, context_size)\n",
    "  context_text = tokenizer.decode(context)\n",
    "  print(\"Contexto Inicial:\", context_text)\n",
    "\n",
    "  max_length = 150\n",
    "  generated_text = generate_text(model, context, max_length, context_size, device)\n",
    "  print(f\"Texto gerado: {generated_text}\")\n",
    "  print(\"-\" * 100 )"
   ]
  },
  {
   "cell_type": "markdown",
   "id": "13c474cf-4a4f-458e-bf90-4c0fc5bc2392",
   "metadata": {},
   "source": [
    "## Geração com temperatura"
   ]
  },
  {
   "cell_type": "code",
   "execution_count": 118,
   "id": "2a15f516-d7d8-4884-8589-fac801fb85ef",
   "metadata": {},
   "outputs": [
    {
     "name": "stdout",
     "output_type": "stream",
     "text": [
      "Contexto Inicial: confiança. Não é preciso definir esta instituição\n",
      "Texto gerado: ##eiros e eu. Mas não gosto ama <eos> ##ou que não era mal alinha. Não ; é preciso que uma é que a églória do mar, tendo a alma o ressentimento de doçura. E as cartas do Comendadorauld e o leader, não nos havíamos em que eu vá... D. Benedita, não, que não, quando o nosso caso é se explica o que é que a minha casta, a generosidade dos cabeleireiros e eu. Mas não gosto ama\n",
      "----------------------------------------------------------------------------------------------------\n",
      "Contexto Inicial: escrito. Em primeiro lugar, fique\n",
      "Texto gerado: .......! <eos> ##t alcançou, é que é que ele não fizesse esquecer as minhas excetinas, Pedro e não são? A este era um homem ; que nenhum! E eu acho que é de melhor! Oh! é muito ser acusado, agora!! Mirto! Vocês!? És tu! disse Batista ; é isto, meu filho! D. Helena.........................!\n",
      "----------------------------------------------------------------------------------------------------\n",
      "Contexto Inicial: ##s qualidades de observação e de análise,\n",
      "Texto gerado: o é o meu amor! é uma <eos> ##é tinha algum tempo aborrecas. Fois um sórd. Não é o meu espírito estranha, disse ele. Que quer? Com certeza?... Mas que, não?...! Não! cho......... é verdade!...! disse a moça sorri com que eu tinha o cuidado de não ter casasei as declarações e não menos extraordinários. Ele é certo? Porque o é o meu amor! é uma\n",
      "----------------------------------------------------------------------------------------------------\n",
      "Contexto Inicial: , se chama dar curso forçado às notas\n",
      "Texto gerado: é possível...... <eos> ##ávamos a tardes. O tempo é o dom do almoço não a viu, porque o desembargador podia achar um velho incômodo, e é de um homem tão vulgar de amor. Esteve assim! Mas, se não haveria questão de modo que ele lhe digo, como sabe de se vers algum que o senhor fazer encontra a revisão de lhe fazer? A vida de Ernesto... Não se perdôo, não! é possível......\n",
      "----------------------------------------------------------------------------------------------------\n",
      "Contexto Inicial: terrível Borges o descompôs. Verdade\n",
      "Texto gerado: mal cocheiro, para que é <eos> ##ta, mas é possível que não... é o que eu deixo? já mesmo se trata? É verdade... é porque é essa...... não?.............. sou, isto é, quem é? Não sei ; é que não insito, não é quase nada ; não creio, porque é que lhe não atribuoia menos que o mundo mal cocheiro, para que é\n",
      "----------------------------------------------------------------------------------------------------\n"
     ]
    }
   ],
   "source": [
    "import torch.nn.functional as F\n",
    "\n",
    "# Função para gerar texto a partir de um modelo com temperatura\n",
    "def generate_text(model, context, max_length, context_size, device, temperature=1.0):\n",
    "    model.eval()\n",
    "\n",
    "    generated_indices = []\n",
    "    context = context\n",
    "\n",
    "    # Começar a geração de texto\n",
    "    for i in range(max_length):\n",
    "        # Obter o contexto atual\n",
    "        if i == 0:\n",
    "            input_context = torch.tensor([29794] + context[-context_size:], dtype=torch.long, device=device).unsqueeze(0)\n",
    "        else:\n",
    "            input_context = torch.tensor(context[-context_size-1:], dtype=torch.long, device=device).unsqueeze(0)\n",
    "\n",
    "        # Forward pass\n",
    "        with torch.no_grad():\n",
    "            output = model(input_context)  # output.shape: (1, seq_len, vocab_size)\n",
    "\n",
    "        # Aplicar a temperatura\n",
    "        next_token_logits = output[:, -1, :] / temperature  # Ajustar logits pela temperatura\n",
    "        probabilities = F.softmax(next_token_logits, dim=-1)  # Converter logits em probabilidades\n",
    "\n",
    "        # Amostrar o próximo token a partir das probabilidades ajustadas\n",
    "        predicted_index = torch.multinomial(probabilities, num_samples=1).item()\n",
    "\n",
    "        # Adicionar o índice ao texto gerado\n",
    "        generated_indices.append(predicted_index)\n",
    "\n",
    "        # Atualizar o contexto\n",
    "        context.append(predicted_index)\n",
    "        context = context[-context_size:]\n",
    "\n",
    "    # Decodificar os índices gerados para texto usando o tokenizer do BERT\n",
    "    generated_text = tokenizer.decode(generated_indices)\n",
    "\n",
    "    return tokenizer.decode(context[:context_size]) + ' ' + generated_text\n",
    "\n",
    "# Função para pegar um contexto aleatório do val_data\n",
    "def get_random_context(val_text, context_size):\n",
    "    # Escolha um índice aleatório para começar\n",
    "    start_index = random.randint(0, len(val_text) - context_size)\n",
    "    context = val_text[start_index:start_index + context_size]\n",
    "\n",
    "    return context\n",
    "\n",
    "# Exemplo de uso\n",
    "context_size = 8\n",
    "for i in range(5):\n",
    "    context = get_random_context(val_text, context_size)\n",
    "    context_text = tokenizer.decode(context)\n",
    "    print(\"Contexto Inicial:\", context_text)\n",
    "\n",
    "    max_length = 100\n",
    "    temperature = 0.7 # Ajuste a temperatura conforme necessário\n",
    "    generated_text = generate_text(model, context, max_length, context_size, device, temperature=temperature)\n",
    "    print(f\"Texto gerado: {generated_text}\")\n",
    "    print(\"-\" * 100)\n"
   ]
  },
  {
   "cell_type": "code",
   "execution_count": null,
   "id": "64db3fd3-8799-4398-9b4a-ea28c4e21ddc",
   "metadata": {},
   "outputs": [],
   "source": []
  }
 ],
 "metadata": {
  "kernelspec": {
   "display_name": "Python 3 (ipykernel)",
   "language": "python",
   "name": "python3"
  },
  "language_info": {
   "codemirror_mode": {
    "name": "ipython",
    "version": 3
   },
   "file_extension": ".py",
   "mimetype": "text/x-python",
   "name": "python",
   "nbconvert_exporter": "python",
   "pygments_lexer": "ipython3",
   "version": "3.11.7"
  }
 },
 "nbformat": 4,
 "nbformat_minor": 5
}
